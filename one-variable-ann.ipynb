{
 "cells": [
  {
   "cell_type": "code",
   "execution_count": 1,
   "metadata": {},
   "outputs": [],
   "source": [
    "%matplotlib inline\n",
    "import pandas as pd\n",
    "import tensorflow as tf\n",
    "import numpy as np\n",
    "import matplotlib.pyplot as plt\n",
    "import os\n",
    "from sklearn.metrics import r2_score "
   ]
  },
  {
   "cell_type": "markdown",
   "metadata": {},
   "source": [
    "## Discretising the data\n",
    "To reduce the computational load of the problem, we have only taken data at every 1% strain step instead of all the timesteps run by the FE Simulation. The snippet below inputs the data file and looks for timesteps with 1% increment in effective strain and stores them"
   ]
  },
  {
   "cell_type": "code",
   "execution_count": 2,
   "metadata": {},
   "outputs": [],
   "source": [
    "out_file = pd.read_csv('data/AR1/out.csv')\n",
    "lim = 0.01\n",
    "timesteps = []\n",
    "time = []\n",
    "for i in range(len(out_file)):\n",
    "    if(out_file[\"eff_strain\"][i] > lim):\n",
    "        timesteps.append(i+1)\n",
    "        time.append(out_file[\"time\"][i])\n",
    "        lim = lim + 0.01\n",
    "steps = np.ceil((np.array(timesteps)/50))"
   ]
  },
  {
   "cell_type": "markdown",
   "metadata": {},
   "source": [
    "## Reading and normalsing data\n",
    "The data dumped by the seacas-exodus script is read here. We are only interested in 5 variables\n",
    "- elem_x: x coordinate of every element\n",
    "- elem_y: y coordinate of every element\n",
    "- phases: phase the element belongs to\n",
    "- strain_yy: the effective applied strain at that timestep\n",
    "- eff_strain: the effective strain of the element, our only output variable\n",
    "\n",
    "The rest of the variables are dropped and the variables of choice are normalised between 1 and -1"
   ]
  },
  {
   "cell_type": "code",
   "execution_count": 4,
   "metadata": {},
   "outputs": [
    {
     "data": {
      "text/html": [
       "<div>\n",
       "<style scoped>\n",
       "    .dataframe tbody tr th:only-of-type {\n",
       "        vertical-align: middle;\n",
       "    }\n",
       "\n",
       "    .dataframe tbody tr th {\n",
       "        vertical-align: top;\n",
       "    }\n",
       "\n",
       "    .dataframe thead th {\n",
       "        text-align: right;\n",
       "    }\n",
       "</style>\n",
       "<table border=\"1\" class=\"dataframe\">\n",
       "  <thead>\n",
       "    <tr style=\"text-align: right;\">\n",
       "      <th></th>\n",
       "      <th>eff_strain</th>\n",
       "      <th>strain_yy</th>\n",
       "      <th>triaxiality</th>\n",
       "      <th>vonmises</th>\n",
       "      <th>elem_x</th>\n",
       "      <th>elem_y</th>\n",
       "      <th>phases</th>\n",
       "    </tr>\n",
       "  </thead>\n",
       "  <tbody>\n",
       "    <tr>\n",
       "      <th>21279995</th>\n",
       "      <td>-0.790890</td>\n",
       "      <td>1.0</td>\n",
       "      <td>-0.224296</td>\n",
       "      <td>0.862288</td>\n",
       "      <td>0.017544</td>\n",
       "      <td>-0.017544</td>\n",
       "      <td>1.0</td>\n",
       "    </tr>\n",
       "    <tr>\n",
       "      <th>21279996</th>\n",
       "      <td>-0.752572</td>\n",
       "      <td>1.0</td>\n",
       "      <td>-0.241038</td>\n",
       "      <td>0.867445</td>\n",
       "      <td>0.017544</td>\n",
       "      <td>-0.012531</td>\n",
       "      <td>1.0</td>\n",
       "    </tr>\n",
       "    <tr>\n",
       "      <th>21279997</th>\n",
       "      <td>-0.625095</td>\n",
       "      <td>1.0</td>\n",
       "      <td>-0.256846</td>\n",
       "      <td>0.884972</td>\n",
       "      <td>0.022556</td>\n",
       "      <td>-0.032581</td>\n",
       "      <td>1.0</td>\n",
       "    </tr>\n",
       "    <tr>\n",
       "      <th>21279998</th>\n",
       "      <td>-0.709951</td>\n",
       "      <td>1.0</td>\n",
       "      <td>-0.229314</td>\n",
       "      <td>0.880816</td>\n",
       "      <td>0.022556</td>\n",
       "      <td>-0.027569</td>\n",
       "      <td>1.0</td>\n",
       "    </tr>\n",
       "    <tr>\n",
       "      <th>21279999</th>\n",
       "      <td>-0.712791</td>\n",
       "      <td>1.0</td>\n",
       "      <td>-0.256271</td>\n",
       "      <td>0.879132</td>\n",
       "      <td>0.022556</td>\n",
       "      <td>-0.022556</td>\n",
       "      <td>1.0</td>\n",
       "    </tr>\n",
       "  </tbody>\n",
       "</table>\n",
       "</div>"
      ],
      "text/plain": [
       "          eff_strain  strain_yy  triaxiality  vonmises    elem_x    elem_y  \\\n",
       "21279995   -0.790890        1.0    -0.224296  0.862288  0.017544 -0.017544   \n",
       "21279996   -0.752572        1.0    -0.241038  0.867445  0.017544 -0.012531   \n",
       "21279997   -0.625095        1.0    -0.256846  0.884972  0.022556 -0.032581   \n",
       "21279998   -0.709951        1.0    -0.229314  0.880816  0.022556 -0.027569   \n",
       "21279999   -0.712791        1.0    -0.256271  0.879132  0.022556 -0.022556   \n",
       "\n",
       "          phases  \n",
       "21279995     1.0  \n",
       "21279996     1.0  \n",
       "21279997     1.0  \n",
       "21279998     1.0  \n",
       "21279999     1.0  "
      ]
     },
     "execution_count": 4,
     "metadata": {},
     "output_type": "execute_result"
    }
   ],
   "source": [
    "df = pd.read_csv('data/AR1/out_soudip.csv')\n",
    "#df = df[df[\"time\"].isin(steps)] \n",
    "df = df.drop(columns=['pressure', 'sdv22', 'sdv23', 'total_strain_xy', 'time', 'elem_id', 'blk_id', \n",
    "                      'total_stress_xx', 'total_stress_yy','total_strain_xx', 'total_strain_yy', \n",
    "                      'vonmises', 'triaxiality'' ])\n",
    "df_norm = 2*(df-df.min())/(df.max()-df.min()) - 1\n",
    "df_norm.tail()"
   ]
  },
  {
   "cell_type": "markdown",
   "metadata": {},
   "source": [
    "## Creating a directory\n",
    "A directory is created for storing the trained model and all the related plots. The trained model can be loaded again for future use."
   ]
  },
  {
   "cell_type": "code",
   "execution_count": 6,
   "metadata": {},
   "outputs": [],
   "source": [
    "model_number = 94 # soudip data 0 to 1 with bias\n",
    "base_path = './trained_models/model_%i' % (model_number)\n",
    "os.mkdir(base_path)"
   ]
  },
  {
   "cell_type": "markdown",
   "metadata": {},
   "source": [
    "## Separating data\n",
    "Data is split randomly into 80% training data and 20% testing. The model is only shown the training data from which the learns the optimal weights and is tested on the rest 20% data."
   ]
  },
  {
   "cell_type": "code",
   "execution_count": null,
   "metadata": {},
   "outputs": [],
   "source": [
    "# Separating data in test and train\n",
    "train_dataset = df_norm.sample(frac=0.8,random_state=0)\n",
    "test_dataset = df_norm.drop(train_dataset.index)\n",
    "train_stats = train_dataset.astype(float).describe(include='all')\n",
    "\n",
    "train_labels = train_dataset[['eff_strain']].copy()\n",
    "train_dataset = train_dataset.drop(columns=['eff_strain'])\n",
    "test_labels = test_dataset[['eff_strain']].copy()\n",
    "test_dataset = test_dataset.drop(columns=['eff_strain'])\n",
    "\n",
    "norm_train_labels = train_labels\n",
    "norm_test_labels = test_labels\n",
    "\n",
    "norm_train_dataset = train_dataset\n",
    "norm_test_dataset = test_dataset\n",
    "norm_train_dataset.tail()"
   ]
  },
  {
   "cell_type": "markdown",
   "metadata": {},
   "source": [
    "## Model Architecture\n",
    "The architecture of our artificial neural network is defined here. We have 4 inputs and 1 output layer with 7 hidden layers shown in the example below. The number of hidden layers can be varied depending on whatever works best. "
   ]
  },
  {
   "cell_type": "code",
   "execution_count": null,
   "metadata": {},
   "outputs": [],
   "source": [
    "# Defining our model\n",
    "def get_compiled_model():\n",
    "    inputs = tf.keras.Input(shape=(4,))\n",
    "    dense = tf.keras.layers.Dense(128, activation='relu', use_bias=\"True\")\n",
    "    x = dense(inputs)\n",
    "    x = tf.keras.layers.Dense(64, activation='relu', use_bias=\"True\")(x)\n",
    "    x = tf.keras.layers.Dense(32, activation='relu', use_bias=\"True\")(x)\n",
    "    x = tf.keras.layers.Dense(16, activation='relu', use_bias=\"True\")(x)\n",
    "    x = tf.keras.layers.Dense(8, activation='relu', use_bias=\"True\")(x)\n",
    "    x = tf.keras.layers.Dense(4, activation='relu', use_bias=\"True\")(x)\n",
    "    x = tf.keras.layers.Dense(2, activation='relu', use_bias=\"True\")(x)\n",
    "    #x = tf.keras.layers.Dense(2, activation='relu', use_bias=\"True\")(x)\n",
    "    outputs = tf.keras.layers.Dense(1, use_bias=\"True\")(x)\n",
    "    model = tf.keras.Model(inputs=inputs, outputs=outputs, name=\"first_model\")\n",
    "    tf.keras.utils.plot_model(model, \"my_first_model_with_shape_info.png\", show_shapes=True)\n",
    "    model.compile(optimizer='SGD',\n",
    "                loss='mse',\n",
    "                metrics=['accuracy', 'mse', 'mae', 'mean_absolute_percentage_error'])\n",
    "    return model"
   ]
  },
  {
   "cell_type": "markdown",
   "metadata": {},
   "source": [
    "## Model Training\n",
    "The model is given the training data and number of epochs after which it starts training. The model is saved in the directory defined above. "
   ]
  },
  {
   "cell_type": "code",
   "execution_count": null,
   "metadata": {},
   "outputs": [],
   "source": [
    "model = get_compiled_model()\n",
    "EPOCHS = 3\n",
    "\n",
    "history = model.fit(norm_train_dataset, norm_train_labels, epochs=EPOCHS, batch_size=1)\n",
    "print(\"Evaluate on test data\")\n",
    "results = model.evaluate(test_dataset, test_labels)\n",
    "print(\"test loss, test acc:\", results)\n",
    "model.save(base_path+'/the_model')"
   ]
  },
  {
   "cell_type": "markdown",
   "metadata": {},
   "source": [
    "## Model summary\n",
    "The summary of the model is stored in a text file to easily identify the model for future uses."
   ]
  },
  {
   "cell_type": "code",
   "execution_count": null,
   "metadata": {},
   "outputs": [],
   "source": [
    "with open(base_path + '/model_summary.txt','w') as fh:\n",
    "    # Pass the file handle in as a lambda function to make it callable\n",
    "    model.summary(print_fn=lambda x: fh.write(x + '\\n'))"
   ]
  },
  {
   "cell_type": "markdown",
   "metadata": {},
   "source": [
    "## Plot of FE Values vs ANN Predictions\n",
    "A plot of FE Values vs ANN Predctions on the test dataset is drawn on the same scale and it's fit along the y=x is observed. R^2 values are also computed for the given prediction and depicted on the graph. The closer the value of R^2 is to 1, the better the fit is."
   ]
  },
  {
   "cell_type": "code",
   "execution_count": null,
   "metadata": {},
   "outputs": [],
   "source": [
    "pred_label = norm_test_dataset\n",
    "test_predictions = model.predict(norm_test_dataset)\n",
    "\n",
    "pred_x = []\n",
    "pred_y = []\n",
    "pred_z = []\n",
    "for y in test_predictions:\n",
    "    pred_x.append(x)\n",
    "len(pred_x)\n",
    "\n",
    "pred_x_scaled = (pred_x + 1)*(df['eff_strain'].max() - df['eff_strain'].min())/2 + df['eff_strain'].min()\n",
    "test_labels_scaled = (norm_test_labels['eff_strain'] + 1)*(df['eff_strain'].max() - df['eff_strain'].min())/2 + df['eff_strain'].min()\n",
    "r2 = r2_score(test_labels_scaled, pred_x_scaled)\n",
    "plt.figure()\n",
    "a = plt.axes(aspect='equal')\n",
    "a.text(0.,0.9, \"$R^2$ = %0.2f\"%(r2), fontsize=15)\n",
    "plt.scatter(test_labels_scaled, pred_x_scaled, s=0.01)\n",
    "x = [0,1]\n",
    "y = x\n",
    "plt.plot(x,y, 'r')\n",
    "plt.title('$\\epsilon_{eff}$')\n",
    "plt.xlabel('True Values')\n",
    "plt.ylabel('Predictions')\n",
    "plt.savefig(base_path+\"/strain_eff_pred_exp.eps\", format=\"eps\")"
   ]
  },
  {
   "cell_type": "markdown",
   "metadata": {},
   "source": [
    "## Preparing data for contour plots\n",
    "The data used here has been randomly split into training and testing so that the model generalises well over every timestep. However we want to plot the contour map of effective strain at the last timestep for this model. The last timestep predictions are made below and the data is structured into a 400\\*400 array to plot the 2D contour."
   ]
  },
  {
   "cell_type": "code",
   "execution_count": 18,
   "metadata": {},
   "outputs": [
    {
     "data": {
      "text/html": [
       "<div>\n",
       "<style scoped>\n",
       "    .dataframe tbody tr th:only-of-type {\n",
       "        vertical-align: middle;\n",
       "    }\n",
       "\n",
       "    .dataframe tbody tr th {\n",
       "        vertical-align: top;\n",
       "    }\n",
       "\n",
       "    .dataframe thead th {\n",
       "        text-align: right;\n",
       "    }\n",
       "</style>\n",
       "<table border=\"1\" class=\"dataframe\">\n",
       "  <thead>\n",
       "    <tr style=\"text-align: right;\">\n",
       "      <th></th>\n",
       "      <th>eff_strain</th>\n",
       "      <th>strain_yy</th>\n",
       "      <th>triaxiality</th>\n",
       "      <th>vonmises</th>\n",
       "      <th>elem_x</th>\n",
       "      <th>elem_y</th>\n",
       "      <th>phases</th>\n",
       "    </tr>\n",
       "  </thead>\n",
       "  <tbody>\n",
       "    <tr>\n",
       "      <th>21279833</th>\n",
       "      <td>0.052396</td>\n",
       "      <td>0.148487</td>\n",
       "      <td>0.131302</td>\n",
       "      <td>2256.450933</td>\n",
       "      <td>50.875</td>\n",
       "      <td>49.125</td>\n",
       "      <td>1</td>\n",
       "    </tr>\n",
       "    <tr>\n",
       "      <th>21279834</th>\n",
       "      <td>0.062101</td>\n",
       "      <td>0.148487</td>\n",
       "      <td>0.067747</td>\n",
       "      <td>2262.942924</td>\n",
       "      <td>50.875</td>\n",
       "      <td>49.375</td>\n",
       "      <td>1</td>\n",
       "    </tr>\n",
       "    <tr>\n",
       "      <th>21279835</th>\n",
       "      <td>0.094291</td>\n",
       "      <td>0.148487</td>\n",
       "      <td>0.006537</td>\n",
       "      <td>2284.566033</td>\n",
       "      <td>51.125</td>\n",
       "      <td>48.375</td>\n",
       "      <td>1</td>\n",
       "    </tr>\n",
       "    <tr>\n",
       "      <th>21279836</th>\n",
       "      <td>0.072573</td>\n",
       "      <td>0.148487</td>\n",
       "      <td>0.114299</td>\n",
       "      <td>2279.209113</td>\n",
       "      <td>51.125</td>\n",
       "      <td>48.625</td>\n",
       "      <td>1</td>\n",
       "    </tr>\n",
       "    <tr>\n",
       "      <th>21279837</th>\n",
       "      <td>0.071899</td>\n",
       "      <td>0.148487</td>\n",
       "      <td>0.010638</td>\n",
       "      <td>2277.119519</td>\n",
       "      <td>51.125</td>\n",
       "      <td>48.875</td>\n",
       "      <td>1</td>\n",
       "    </tr>\n",
       "  </tbody>\n",
       "</table>\n",
       "</div>"
      ],
      "text/plain": [
       "          eff_strain  strain_yy  triaxiality     vonmises  elem_x  elem_y  \\\n",
       "21279833    0.052396   0.148487     0.131302  2256.450933  50.875  49.125   \n",
       "21279834    0.062101   0.148487     0.067747  2262.942924  50.875  49.375   \n",
       "21279835    0.094291   0.148487     0.006537  2284.566033  51.125  48.375   \n",
       "21279836    0.072573   0.148487     0.114299  2279.209113  51.125  48.625   \n",
       "21279837    0.071899   0.148487     0.010638  2277.119519  51.125  48.875   \n",
       "\n",
       "          phases  \n",
       "21279833       1  \n",
       "21279834       1  \n",
       "21279835       1  \n",
       "21279836       1  \n",
       "21279837       1  "
      ]
     },
     "execution_count": 18,
     "metadata": {},
     "output_type": "execute_result"
    }
   ],
   "source": [
    "plot_df = df_norm.loc[df_norm['strain_yy']>0.996012]\n",
    "plot_df = plot_df.sort_values(by=['elem_x', 'elem_y'])\n",
    "\n",
    "last_step = df_norm.loc[df_norm['strain_yy']>0.996012]\n",
    "train_last = plot_df.drop(columns=['eff_strain', 'vonmises', 'triaxiality'])\n",
    "pred_last = model.predict(train_last)\n",
    "label_last = plot_df[['eff_strain']].copy()\n",
    "pred_last_scaled = (pred_last + 1)*(df['eff_strain'].max() - df['eff_strain'].min())/2 + df['eff_strain'].min()\n",
    "label_last_scaled = (label_last + 1)*(df['eff_strain'].max() - df['eff_strain'].min())/2 + df['eff_strain'].min()\n",
    "plot_pred_last = (np.asarray(pred_last_scaled)).reshape(400,400)\n",
    "plot_label_last = (np.asarray(label_last_scaled)).reshape(400,400)\n",
    "\n",
    "train_last"
   ]
  },
  {
   "cell_type": "markdown",
   "metadata": {},
   "source": [
    "## Contour Plots\n",
    "Three countour plots have been shown here:\n",
    "\n",
    "- FE Values: True Effective strain values as computed by the FE simulations at the last time step\n",
    "- ANN Values: Predicted Effective strain values as computed by the FE simulations at the last time step\n",
    "- Error values: Difference between the FE values and ANN values for every element."
   ]
  },
  {
   "cell_type": "code",
   "execution_count": 19,
   "metadata": {},
   "outputs": [
    {
     "data": {
      "image/png": "[encoded data removed]",
      "text/plain": [
       "<Figure size 432x288 with 2 Axes>"
      ]
     },
     "metadata": {
      "needs_background": "light"
     },
     "output_type": "display_data"
    },
    {
     "data": {
      "image/png": "[encoded data removed]",
      "text/plain": [
       "<Figure size 432x288 with 2 Axes>"
      ]
     },
     "metadata": {
      "needs_background": "light"
     },
     "output_type": "display_data"
    },
    {
     "data": {
      "image/png": "[encoded data removed]",
      "text/plain": [
       "<Figure size 432x288 with 2 Axes>"
      ]
     },
     "metadata": {
      "needs_background": "light"
     },
     "output_type": "display_data"
    }
   ],
   "source": [
    "# Experimental values contours\n",
    "plot_df = df_norm.loc[df_norm['strain_yy']>0.996012]\n",
    "xlist = np.arange(0.25, 50, 0.5)\n",
    "plot_df = plot_df.sort_values(by=['elem_x', 'elem_y'])\n",
    "\n",
    "var_name = 'eff_strain'\n",
    "plot_z = plot_label_last\n",
    "xlist = np.arange(0.25, 100.25, 0.25)\n",
    "ylist = np.arange(0.25, 100.25, 0.25)\n",
    "X,Y = np.meshgrid(xlist, ylist)\n",
    "Z = plot_z\n",
    "fig,ax=plt.subplots(1,1)\n",
    "mycmap1 = plt.get_cmap('rainbow')\n",
    "cp_xx = ax.contourf(X, Y, Z, cmap=mycmap1)\n",
    "fig.colorbar(cp_xx) # Add a colorbar to a plot\n",
    "#ax.set_title('CPFE $\\epsilon_{eff}$ At Final Time-step')\n",
    "ax.set_aspect('equal', adjustable='box')\n",
    "ax.set_xlabel('x ($\\mu m$)')\n",
    "ax.set_ylabel('y ($\\mu m$)')\n",
    "plt.savefig(base_path+'/contour_exp_strain_eff.eps', format=\"eps\")\n",
    "xx_levels = cp_xx.levels\n",
    "\n",
    "var_name = 'eff_strain'\n",
    "#plot_z_scaled = np.array((plot_df[var_name]*(df[var_name].max() - df[var_name].min())) + df[var_name].min())\n",
    "#plot_z = plot_z_scaled.reshape(400,400)\n",
    "plot_z = plot_pred_last\n",
    "xlist = np.arange(0.25, 100.25, 0.25)\n",
    "ylist = np.arange(0.25, 100.25, 0.25)\n",
    "X,Y = np.meshgrid(xlist, ylist)\n",
    "Z = plot_z\n",
    "fig,ax=plt.subplots(1,1)\n",
    "mycmap1 = plt.get_cmap('rainbow')\n",
    "cp_xx = ax.contourf(X, Y, Z, cmap=mycmap1, levels= xx_levels)\n",
    "fig.colorbar(cp_xx) # Add a colorbar to a plot\n",
    "#ax.set_title('CPFE $\\epsilon_{eff}$ At Final Time-step')\n",
    "ax.set_aspect('equal', adjustable='box')\n",
    "ax.set_xlabel('x ($\\mu m$)')\n",
    "ax.set_ylabel('y ($\\mu m$)')\n",
    "plt.savefig(base_path+'/contour_pred_strain_eff.eps', format=\"eps\")\n",
    "xx_levels = cp_xx.levels\n",
    "\n",
    "var_name = 'eff_strain'\n",
    "#plot_z_scaled = np.array((plot_df[var_name]*(df[var_name].max() - df[var_name].min())) + df[var_name].min())\n",
    "#plot_z = plot_z_scaled.reshape(400,400)\n",
    "plot_z = plot_pred_last - plot_label_last\n",
    "xlist = np.arange(0.25, 100.25, 0.25)\n",
    "ylist = np.arange(0.25, 100.25, 0.25)\n",
    "X,Y = np.meshgrid(xlist, ylist)\n",
    "Z = plot_z\n",
    "fig,ax=plt.subplots(1,1)\n",
    "mycmap1 = plt.get_cmap('rainbow')\n",
    "cp_xx = ax.contourf(X, Y, Z, cmap=mycmap1)\n",
    "fig.colorbar(cp_xx) # Add a colorbar to a plot\n",
    "#ax.set_title('CPFE $\\epsilon_{eff}$ At Final Time-step')\n",
    "ax.set_aspect('equal', adjustable='box')\n",
    "ax.set_xlabel('x ($\\mu m$)')\n",
    "ax.set_ylabel('y ($\\mu m$)')\n",
    "plt.savefig(base_path+'/contour_error_strain_eff.eps', format=\"eps\")\n",
    "xx_levels = cp_xx.levels"
   ]
  }
 ],
 "metadata": {
  "kernelspec": {
   "display_name": "Python 3",
   "language": "python",
   "name": "python3"
  },
  "language_info": {
   "codemirror_mode": {
    "name": "ipython",
    "version": 3
   },
   "file_extension": ".py",
   "mimetype": "text/x-python",
   "name": "python",
   "nbconvert_exporter": "python",
   "pygments_lexer": "ipython3",
   "version": "3.7.3"
  }
 },
 "nbformat": 4,
 "nbformat_minor": 2
}
